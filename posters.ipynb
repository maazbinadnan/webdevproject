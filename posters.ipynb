{
 "cells": [
  {
   "cell_type": "code",
   "execution_count": null,
   "metadata": {},
   "outputs": [
    {
     "ename": "",
     "evalue": "",
     "output_type": "error",
     "traceback": [
      "\u001b[1;31mRunning cells with 'c:\\msys64\\mingw64\\bin\\python.exe' requires the ipykernel package.\n",
      "\u001b[1;31mRun the following command to install 'ipykernel' into the Python environment. \n",
      "\u001b[1;31mCommand: 'c:/msys64/mingw64/bin/python.exe -m pip install ipykernel -U --user --force-reinstall'"
     ]
    }
   ],
   "source": [
    "import requests\n",
    "\n",
    "# Define API endpoint and API key\n",
    "url = \"http://www.omdbapi.com/\"\n",
    "api_key = \"YOUR_API_KEY\"\n",
    "\n",
    "# Prompt the user for the movie name\n",
    "movie_name = input(\"Enter the name of the movie: \")\n",
    "\n",
    "# Set up the API parameters\n",
    "params = {\"apikey\": api_key, \"t\": movie_name}\n",
    "\n",
    "# Make the API request\n",
    "response = requests.get(url, params=params)\n",
    "\n",
    "# Parse the JSON response\n",
    "movie_data = response.json()\n",
    "\n",
    "# Check if the movie was found\n",
    "if movie_data[\"Response\"] == \"False\":\n",
    "    print(\"Movie not found.\")\n",
    "else:\n",
    "    # Get the poster URL and print it\n",
    "    poster_url = movie_data[\"Poster\"]\n",
    "    print(\"Poster URL:\", poster_url)"
   ]
  }
 ],
 "metadata": {
  "kernelspec": {
   "display_name": "Python 3",
   "language": "python",
   "name": "python3"
  },
  "language_info": {
   "name": "python",
   "version": "3.10.10"
  },
  "orig_nbformat": 4
 },
 "nbformat": 4,
 "nbformat_minor": 2
}
